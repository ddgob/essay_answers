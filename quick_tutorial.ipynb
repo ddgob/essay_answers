{
 "cells": [
  {
   "cell_type": "markdown",
   "metadata": {},
   "source": [
    "# Introduction"
   ]
  },
  {
   "cell_type": "markdown",
   "metadata": {},
   "source": [
    "Here is a quick tutorial on how we can test our API. Make sure you have already followed the [Installation](./README.md#Installation) instructions on the [README](./README.md) file on to get the container up and running. Without this the tutorial won't work!"
   ]
  },
  {
   "cell_type": "markdown",
   "metadata": {},
   "source": [
    "# Testing the API"
   ]
  },
  {
   "cell_type": "markdown",
   "metadata": {},
   "source": [
    "## A simple first test"
   ]
  },
  {
   "cell_type": "markdown",
   "metadata": {},
   "source": [
    "First, let's write a short essay:"
   ]
  },
  {
   "cell_type": "code",
   "execution_count": 296,
   "metadata": {},
   "outputs": [],
   "source": [
    "essay = \"Introduction to Trees.\\nTrees are green. Trees have leafs. Trees are tall.\\nConclusion\\nI love trees. I want to buy five trees.\""
   ]
  },
  {
   "cell_type": "markdown",
   "metadata": {},
   "source": [
    "Now, let's write some queries for our essay:"
   ]
  },
  {
   "cell_type": "code",
   "execution_count": 297,
   "metadata": {},
   "outputs": [],
   "source": [
    "query1 = \"What is the color of trees?\"\n",
    "query2 = \"What is the height trees?\"\n",
    "query3 = \"How many trees do I want to buy?\""
   ]
  },
  {
   "cell_type": "markdown",
   "metadata": {},
   "source": [
    "Notice that the answers we would like for our queries are:\n",
    "\n",
    "- For query \"What is the color of trees?\", we would like the answer \"Trees are green\"\n",
    "- For query \"What is the height trees?\", we would like the answer \"Trees are tall\"\n",
    "- For query \"How many trees do I want to buy?\", we would like the answer \"I want to buy five trees\"\n",
    "\n",
    "Now, let's make a list out of our queries:"
   ]
  },
  {
   "cell_type": "code",
   "execution_count": 298,
   "metadata": {},
   "outputs": [],
   "source": [
    "queries = [query1, query2, query3]"
   ]
  },
  {
   "cell_type": "markdown",
   "metadata": {},
   "source": [
    "Now let's use `requests` to make a post request to the endpoint `/answers` of our API:"
   ]
  },
  {
   "cell_type": "markdown",
   "metadata": {},
   "source": [
    "Lets make sure requests is installed:"
   ]
  },
  {
   "cell_type": "code",
   "execution_count": 299,
   "metadata": {},
   "outputs": [],
   "source": [
    "try:\n",
    "    import requests\n",
    "except ImportError:\n",
    "    # Install requests if it's not already installed\n",
    "    %pip install requests\n",
    "\n",
    "import requests"
   ]
  },
  {
   "cell_type": "markdown",
   "metadata": {},
   "source": [
    "Now lets make the POST request to the `/answers` endpoint"
   ]
  },
  {
   "cell_type": "code",
   "execution_count": 300,
   "metadata": {},
   "outputs": [
    {
     "name": "stdout",
     "output_type": "stream",
     "text": [
      "The response code was 200, Success!\n",
      "\n",
      "Here is the response:\n",
      "{'answers': ['Trees are green', 'Trees are tall', 'I want to buy five trees']}\n"
     ]
    }
   ],
   "source": [
    "url = 'http://127.0.0.1:8000/answers'\n",
    "\n",
    "data = {\n",
    "    \"essay\": essay,\n",
    "    \"queries\": queries\n",
    "}\n",
    "\n",
    "response = requests.post(url, json=data)\n",
    "\n",
    "if response.status_code == 200:\n",
    "    print(\"The response code was 200, Success!\")\n",
    "    print()\n",
    "    print(\"Here is the response:\")\n",
    "    print(response.json())\n",
    "else:\n",
    "    print(\"The response code was not 200, Failure!\")\n",
    "    print(\"Response code:\", response.status_code)\n"
   ]
  },
  {
   "cell_type": "markdown",
   "metadata": {},
   "source": [
    "Notice that the answers we got are exactly the answers we expected!"
   ]
  },
  {
   "cell_type": "markdown",
   "metadata": {},
   "source": [
    "## Testing for robustness"
   ]
  },
  {
   "cell_type": "markdown",
   "metadata": {},
   "source": [
    "As we know, users don't always use our products the way we intend them to use. So lets test the robustness of our API!"
   ]
  },
  {
   "cell_type": "markdown",
   "metadata": {},
   "source": [
    "First, lets see if we what we get when we send an empty essay.\n",
    "\n",
    "OBS.: we'll use the queries from before for convinience."
   ]
  },
  {
   "cell_type": "code",
   "execution_count": 301,
   "metadata": {},
   "outputs": [
    {
     "name": "stdout",
     "output_type": "stream",
     "text": [
      "The response code was 400, Bad Request!\n",
      "\n",
      "Here is the response:\n",
      "{'error': 'Essay cannot be empty.'}\n"
     ]
    }
   ],
   "source": [
    "data = {\n",
    "    \"essay\": \"\",\n",
    "    \"queries\": queries\n",
    "}\n",
    "\n",
    "response = requests.post(url, json=data)\n",
    "\n",
    "if response.status_code == 200:\n",
    "    print(\"The response code was 200, Success!\")\n",
    "\n",
    "if response.status_code == 400:\n",
    "    print(\"The response code was 400, Bad Request!\")\n",
    "\n",
    "print()\n",
    "print(\"Here is the response:\")\n",
    "print(response.json())"
   ]
  },
  {
   "cell_type": "markdown",
   "metadata": {},
   "source": [
    "Notice that our code is robust enough to handle this edge case. Now lets see what happens when we send no queries:"
   ]
  },
  {
   "cell_type": "code",
   "execution_count": 302,
   "metadata": {},
   "outputs": [
    {
     "name": "stdout",
     "output_type": "stream",
     "text": [
      "The response code was 400, Bad Request!\n",
      "\n",
      "Here is the response:\n",
      "{'error': 'Queries list cannot be empty.'}\n"
     ]
    }
   ],
   "source": [
    "data = {\n",
    "    \"essay\": essay,\n",
    "    \"queries\": []\n",
    "}\n",
    "\n",
    "response = requests.post(url, json=data)\n",
    "\n",
    "if response.status_code == 200:\n",
    "    print(\"The response code was 200, Success!\")\n",
    "\n",
    "if response.status_code == 400:\n",
    "    print(\"The response code was 400, Bad Request!\")\n",
    "\n",
    "print()\n",
    "print(\"Here is the response:\")\n",
    "print(response.json())"
   ]
  },
  {
   "cell_type": "markdown",
   "metadata": {},
   "source": [
    "Again, the API was able to treat this edge case. What if we send a non-string essay?"
   ]
  },
  {
   "cell_type": "code",
   "execution_count": 303,
   "metadata": {},
   "outputs": [
    {
     "name": "stdout",
     "output_type": "stream",
     "text": [
      "The response code was 400, Bad Request!\n",
      "\n",
      "Here is the response:\n",
      "{'error': 'Essay must be a string.'}\n"
     ]
    }
   ],
   "source": [
    "data = {\n",
    "    \"essay\": 123,\n",
    "    \"queries\": queries\n",
    "}\n",
    "\n",
    "response = requests.post(url, json=data)\n",
    "\n",
    "if response.status_code == 200:\n",
    "    print(\"The response code was 200, Success!\")\n",
    "\n",
    "if response.status_code == 400:\n",
    "    print(\"The response code was 400, Bad Request!\")\n",
    "\n",
    "print()\n",
    "print(\"Here is the response:\")\n",
    "print(response.json())"
   ]
  },
  {
   "cell_type": "markdown",
   "metadata": {},
   "source": [
    "To finalize, what if we send a non-string query:"
   ]
  },
  {
   "cell_type": "code",
   "execution_count": 304,
   "metadata": {},
   "outputs": [
    {
     "name": "stdout",
     "output_type": "stream",
     "text": [
      "The response code was 400, Bad Request!\n",
      "\n",
      "Here is the response:\n",
      "{'error': 'Essay must be a string.'}\n"
     ]
    }
   ],
   "source": [
    "data = {\n",
    "    \"essay\": essay,\n",
    "    \"queries\": [\"Query 1\", 123]\n",
    "}\n",
    "\n",
    "if response.status_code == 200:\n",
    "    print(\"The response code was 200, Success!\")\n",
    "\n",
    "if response.status_code == 400:\n",
    "    print(\"The response code was 400, Bad Request!\")\n",
    "\n",
    "print()\n",
    "print(\"Here is the response:\")\n",
    "print(response.json())"
   ]
  },
  {
   "cell_type": "markdown",
   "metadata": {},
   "source": [
    "In summary, our endpoint is robust to treat the cases where users submit requests in non-intended ways."
   ]
  },
  {
   "cell_type": "markdown",
   "metadata": {},
   "source": [
    "# Testing a Full Essay"
   ]
  },
  {
   "cell_type": "markdown",
   "metadata": {},
   "source": [
    "Now that we've shown how the API works and its robustness, lets see it in action with a full essay.\n",
    "\n",
    "The essay is contained in a essay.txt file in the root of the project:"
   ]
  },
  {
   "cell_type": "code",
   "execution_count": 305,
   "metadata": {},
   "outputs": [
    {
     "name": "stdout",
     "output_type": "stream",
     "text": [
      "At first glance, courage and bravery might seem like synonyms, two words used interchangeably to describe the quality of being fearless in the face of danger. However, a closer look reveals subtle but significant differences between these two traits that are central to the human experience. It’s like comparing the calm, steady flame of a candle to the bright, bold firework – both are sources of light, yet they illuminate in distinct ways. But what precisely is the difference between courage and bravery?\n",
      "Defining Courage.\n",
      "Courage is not merely the absence of fear but the ability to act in spite of it. It is a composite of mental and moral fortitude. Courage lies in the center of enabling individuals to face daunting circumstances with resilience. This extends beyond the realm of physical dangers and covers the psychological and moral spheres. For instance, courage is manifest in a person who speaks up against injustice despite potential social repercussions. It’s also seen in individuals battling chronic illnesses, persisting through pain and uncertainty. This aspect of courage highlights its depth, transcending momentary acts to become a sustained state of being.\n",
      "In “To Kill a Mockingbird” by Harper Lee, Atticus Finch, the protagonist, exhibits profound moral courage. He defends a Black man, Tom Robinson, accused of a crime he didn’t commit, in a racially prejudiced town. This act of standing up for justice, despite societal backlash and personal risk, showcases Atticus’s deep-rooted courage. His courage lies not in a lack of fear, but in his commitment to what is right, even when it is unpopular and dangerous.\n",
      "Or if you are more of an Orwell fan, in his book “1984”, Winston Smith, the main character, displays psychological courage and strength in his quiet rebellion against the oppressive regime of Big Brother. His act of keeping a diary, falling in love, or even thinking against the Party’s doctrine, demonstrates a kind of internal courage. It’s a rebellion not just against the state but against the pervasive fear it instills, making Winston’s acts emblematic of courage in the face of psychological and ideological control.\n",
      "Defining Bravery.\n",
      "Bravery, often perceived as a subset of courage, is characterized by bold action in the face of danger, particularly physical. It’s the instinctive response during emergent situations requiring immediate action. Bravery is the firefighter rushing into a burning building, the soldier defending their country, or the bystander intervening in a crisis. This concept is frequently associated with a lack of fear, but in reality, it often involves recognizing one’s fear and choosing to act regardless. Bravery is less about the absence of fear and more about the mastery over it.\n",
      "If you ever heard of J.R.R. Tolkien, you might be familiar with his underrated series of books called “Lord of the Rings” (but we doubt it, you know such niche literature). Bilbo Baggins, a hobbit who prefers a quiet life, displays remarkable bravery when he faces the dragon Smaug. Despite his initial reluctance and fear, Bilbo confronts a literal giant in his path, a clear demonstration of bravery. This act is a bold, direct confrontation with a physical threat, embodying the essence of bravery.\n",
      "Another fitting example of bravery can be seen in “Harry Potter and the Sorcerer’s Stone” by the one who-shall-not-be-named. Harry Potter’s decision to go after the Sorcerer’s Stone to prevent it from falling into the wrong hands illustrates bravery. The act of sneaking past teachers, facing magical challenges, and ultimately confronting Professor Quirrell and Voldemort, are actions taken in the face of immediate physical danger. Harry’s actions are not just about overcoming fear but actively confronting a dangerous and uncertain situation, typifying bravery. \n",
      "These examples from literature vividly capture the essence of courage and bravery, highlighting how characters in different situations embody these virtues in their actions and decisions.\n",
      "Pointing Out the Distinctions Between Courage and Bravery.\n",
      "While courage and bravery are distinct, they often intertwine. Bravery can be seen as an actionable expression of courage. It’s the moment courage steps into the light, transforming internal resolve into external action. In this sense, bravery is the visible manifestation of the deeper, enduring quality of courage.\n",
      "Circumstances Matter.\n",
      "When we talk about courage vs bravery, the contexts in which they are applied significantly differ. Courage is more versatile; it can show up in a range of situations. For example, a person demonstrating moral courage might stand up against unfair practices at work, knowing well it could risk their job. It also appears in personal battles, like someone dealing with an illness over many years, showing emotional and psychological strength. On the other hand, bravery is often linked to physical acts in immediate, often dangerous situations. Like a passerby rushing to help in an accident, bravery shines in these urgent, often life-threatening moments, where you have to take the leadership.\n",
      "Nature of the Risk.\n",
      "The risks involved in bravery vs courage are quite distinct. Courage encompasses a broad spectrum, dealing with risks that are not just physical but also moral, emotional, and psychological. For instance, a whistleblower exposing corruption shows courage by facing potential backlash, reflecting moral risk. In contrast, bravery usually relates to physical dangers that demand immediate action. Think of a firefighter entering a blazing building to save lives; this is bravery in its most typical form, confronting direct, physical peril and showing strength. While courage can be a quiet, internal struggle against fears, bravery is often a visible, external fight against tangible dangers.\n",
      "Emotional Involvement.\n",
      "The emotional aspects of courage and bravery also differ. Courage often involves a deeper, more reflective process. It’s about understanding one’s fears, evaluating the risks and consequences, and then deciding to act despite them. This might be seen in someone who decides to speak publicly about a personal issue, knowing it could invite criticism but feeling it’s important to share their story. In contrast, bravery often requires a more immediate, instinctive reaction. It’s less about long deliberation and more about quick, decisive action in the face of danger like someone instinctively running into a risky situation to help others without pausing to weigh the consequences.\n",
      "Closing Thoughts.\n",
      "In conclusion, courage and bravery, while overlapping, are distinct virtues. Courage is a broader term signifying the endurance of both physical and psychological challenges, often sustained over time. Bravery is more immediate, typically associated with physical risks and bold actions. Understanding their nuances not only enriches our vocabulary but also deepens our appreciation for the complexity of human resilience and the diversity of its expressions. Both, in their own right, contribute to the human experience.\n"
     ]
    }
   ],
   "source": [
    "with open('./tests/docs/full_essay.txt', 'r') as file:\n",
    "    full_essay = file.read()\n",
    "\n",
    "print(full_essay)"
   ]
  },
  {
   "cell_type": "markdown",
   "metadata": {},
   "source": [
    "Now lets add some queries for this full essay:"
   ]
  },
  {
   "cell_type": "code",
   "execution_count": 306,
   "metadata": {},
   "outputs": [],
   "source": [
    "full_essay_query_1 = \"What is courage?\"\n",
    "full_essay_query_2 = \"What is bravery?\"\n",
    "full_essay_query_3 = \"An example of a character in the literature who displays courage\"\n",
    "full_essay_query_4 = \"An example of a character in the literature who exhibits bravery\"\n",
    "full_essay_query_5 = \"What risks a courageous act entails?\"\n",
    "full_essay_query_6 = \"What risks a brave act entails?\"\n",
    "\n",
    "full_essay_queries = [\n",
    "    full_essay_query_1,\n",
    "    full_essay_query_2,\n",
    "    full_essay_query_3,\n",
    "    full_essay_query_4,\n",
    "    full_essay_query_5,\n",
    "    full_essay_query_6\n",
    "]"
   ]
  },
  {
   "cell_type": "markdown",
   "metadata": {},
   "source": [
    "Now lets use our API to find the sentence in the essay that is most similar to our queries:"
   ]
  },
  {
   "cell_type": "code",
   "execution_count": 307,
   "metadata": {},
   "outputs": [
    {
     "name": "stdout",
     "output_type": "stream",
     "text": [
      "The response code was 200, Success!\n",
      "\n",
      "Here is the response:\n",
      "{'answers': ['Courage is a broader term signifying the endurance of both physical and psychological challenges, often sustained over time', 'Bravery, often perceived as a subset of courage, is characterized by bold action in the face of danger, particularly physical', 'These examples from literature vividly capture the essence of courage and bravery, highlighting how characters in different situations embody these virtues in their actions and decisions', 'These examples from literature vividly capture the essence of courage and bravery, highlighting how characters in different situations embody these virtues in their actions and decisions', 'The risks involved in bravery vs courage are quite distinct', 'The risks involved in bravery vs courage are quite distinct']}\n",
      "\n",
      "---------------- Here are the queries and their answers ----------------\n",
      "\n",
      "Query: What is courage?\n",
      "Answer: Courage is a broader term signifying the endurance of both physical and psychological challenges, often sustained over time\n",
      "\n",
      "\n",
      "Query: What is bravery?\n",
      "Answer: Bravery, often perceived as a subset of courage, is characterized by bold action in the face of danger, particularly physical\n",
      "\n",
      "\n",
      "Query: An example of a character in the literature who displays courage\n",
      "Answer: These examples from literature vividly capture the essence of courage and bravery, highlighting how characters in different situations embody these virtues in their actions and decisions\n",
      "\n",
      "\n",
      "Query: An example of a character in the literature who exhibits bravery\n",
      "Answer: These examples from literature vividly capture the essence of courage and bravery, highlighting how characters in different situations embody these virtues in their actions and decisions\n",
      "\n",
      "\n",
      "Query: What risks a courageous act entails?\n",
      "Answer: The risks involved in bravery vs courage are quite distinct\n",
      "\n",
      "\n",
      "Query: What risks a brave act entails?\n",
      "Answer: The risks involved in bravery vs courage are quite distinct\n",
      "\n",
      "\n"
     ]
    }
   ],
   "source": [
    "full_essay_data = {\n",
    "    \"essay\": full_essay,\n",
    "    \"queries\": full_essay_queries\n",
    "}\n",
    "\n",
    "response = requests.post(url, json=full_essay_data)\n",
    "\n",
    "if response.status_code == 200:\n",
    "    print(\"The response code was 200, Success!\")\n",
    "\n",
    "if response.status_code == 400:\n",
    "    print(\"The response code was 400, Bad Request!\")\n",
    "\n",
    "print()\n",
    "print(\"Here is the response:\")\n",
    "print(response.json())\n",
    "\n",
    "print()\n",
    "print(\"---------------- Here are the queries and their answers ----------------\")\n",
    "print()\n",
    "for query, answer in zip(full_essay_queries, response.json()['answers']):\n",
    "    print(f\"Query: {query}\\nAnswer: {answer}\\n\\n\")"
   ]
  },
  {
   "cell_type": "markdown",
   "metadata": {},
   "source": [
    "## Don't forget there is the `/answers_based_on_subtitles` endpoint too!"
   ]
  },
  {
   "cell_type": "markdown",
   "metadata": {},
   "source": [
    "Lets see the `/answers_based_on_subtitles` endpoint working with the full essay as well:"
   ]
  },
  {
   "cell_type": "code",
   "execution_count": 308,
   "metadata": {},
   "outputs": [
    {
     "name": "stdout",
     "output_type": "stream",
     "text": [
      "The response code was 200, Success!\n",
      "\n",
      "Here is the response:\n",
      "{'answers': ['Courage is not merely the absence of fear but the ability to act in spite of it', 'Bravery, often perceived as a subset of courage, is characterized by bold action in the face of danger, particularly physical', 'Courage is not merely the absence of fear but the ability to act in spite of it', 'These examples from literature vividly capture the essence of courage and bravery, highlighting how characters in different situations embody these virtues in their actions and decisions', 'Courage is not merely the absence of fear but the ability to act in spite of it', 'This act is a bold, direct confrontation with a physical threat, embodying the essence of bravery']}\n",
      "\n",
      "---------------- Here are the queries and their answers ----------------\n",
      "\n",
      "Query: What is courage?\n",
      "Answer: Courage is not merely the absence of fear but the ability to act in spite of it\n",
      "\n",
      "\n",
      "Query: What is bravery?\n",
      "Answer: Bravery, often perceived as a subset of courage, is characterized by bold action in the face of danger, particularly physical\n",
      "\n",
      "\n",
      "Query: An example of a character in the literature who displays courage\n",
      "Answer: Courage is not merely the absence of fear but the ability to act in spite of it\n",
      "\n",
      "\n",
      "Query: An example of a character in the literature who exhibits bravery\n",
      "Answer: These examples from literature vividly capture the essence of courage and bravery, highlighting how characters in different situations embody these virtues in their actions and decisions\n",
      "\n",
      "\n",
      "Query: What risks a courageous act entails?\n",
      "Answer: Courage is not merely the absence of fear but the ability to act in spite of it\n",
      "\n",
      "\n",
      "Query: What risks a brave act entails?\n",
      "Answer: This act is a bold, direct confrontation with a physical threat, embodying the essence of bravery\n",
      "\n",
      "\n"
     ]
    }
   ],
   "source": [
    "based_on_subtitles_url = 'http://127.0.0.1:8000/answers_based_on_subtitles'\n",
    "\n",
    "response_based_on_subtitles = requests.post(based_on_subtitles_url, json=full_essay_data)\n",
    "\n",
    "if response_based_on_subtitles.status_code == 200:\n",
    "    print(\"The response code was 200, Success!\")\n",
    "\n",
    "if response_based_on_subtitles.status_code == 400:\n",
    "    print(\"The response code was 400, Bad Request!\")\n",
    "\n",
    "print()\n",
    "print(\"Here is the response:\")\n",
    "print(response_based_on_subtitles.json())\n",
    "\n",
    "print()\n",
    "print(\"---------------- Here are the queries and their answers ----------------\")\n",
    "print()\n",
    "for query, answer in zip(full_essay_queries, response_based_on_subtitles.json()['answers']):\n",
    "    print(f\"Query: {query}\\nAnswer: {answer}\\n\\n\")\n"
   ]
  },
  {
   "cell_type": "markdown",
   "metadata": {},
   "source": [
    "Notice that the results aren't as satisfactory as when we used the `/answers` endpoint. However, it is theoretically faster. To see more about the approach used in these two endpoints and how they compare, head to [Approaches to Dividing Essay Into Sentences](./README.md#Approaches-to-Dividing-Essay-Into-Sentences)!"
   ]
  },
  {
   "cell_type": "markdown",
   "metadata": {},
   "source": [
    "## Now it's your turn!"
   ]
  },
  {
   "cell_type": "markdown",
   "metadata": {},
   "source": [
    "Now that you understand how the API works, try it for yourself!"
   ]
  },
  {
   "cell_type": "code",
   "execution_count": 309,
   "metadata": {},
   "outputs": [],
   "source": [
    "# Write your essay here\n",
    "your_essay = \"Write your essay here.\""
   ]
  },
  {
   "cell_type": "code",
   "execution_count": 310,
   "metadata": {},
   "outputs": [],
   "source": [
    "# Write your queries here\n",
    "your_query1 = \"Write your query 1 here.\"\n",
    "your_query2 = \"Write your query 2 here.\"\n",
    "\n",
    "your_queries = [query1, query2]"
   ]
  },
  {
   "cell_type": "code",
   "execution_count": 311,
   "metadata": {},
   "outputs": [
    {
     "name": "stdout",
     "output_type": "stream",
     "text": [
      "The response code was 200, Success!\n",
      "\n",
      "Here is the response:\n",
      "{'answers': ['Write your essay here', 'Write your essay here']}\n",
      "\n",
      "---------------- Here are the queries and their answers ----------------\n",
      "\n",
      "Query: What is courage?\n",
      "Answer: Write your essay here\n",
      "\n",
      "Query: What is bravery?\n",
      "Answer: Write your essay here\n",
      "\n"
     ]
    }
   ],
   "source": [
    "# Run this code to see what you get!\n",
    "data = {\n",
    "    \"essay\": your_essay,\n",
    "    \"queries\": your_queries\n",
    "}\n",
    "\n",
    "response = requests.post(url, json=data)\n",
    "\n",
    "if response.status_code == 200:\n",
    "    print(\"The response code was 200, Success!\")\n",
    "\n",
    "if response.status_code == 400:\n",
    "    print(\"The response code was 400, Bad Request!\")\n",
    "\n",
    "print()\n",
    "print(\"Here is the response:\")\n",
    "print(response.json())\n",
    "\n",
    "print()\n",
    "print(\"---------------- Here are the queries and their answers ----------------\")\n",
    "print()\n",
    "for query, answer in zip(full_essay_queries, response.json()['answers']):\n",
    "    print(f\"Query: {query}\\nAnswer: {answer}\\n\")"
   ]
  },
  {
   "cell_type": "markdown",
   "metadata": {},
   "source": [
    "# Extra (optional)"
   ]
  },
  {
   "cell_type": "markdown",
   "metadata": {},
   "source": [
    "As was described in [*Extra: Reimplementation using a new model*](.README/#extra-reimplementation-using-a-new-model), there is one more endpoint we created to answer questions based on a span of the essay: `/answers_span`.\n",
    "\n",
    "Lets test it with the full essay as well:"
   ]
  },
  {
   "cell_type": "code",
   "execution_count": 312,
   "metadata": {},
   "outputs": [
    {
     "name": "stdout",
     "output_type": "stream",
     "text": [
      "The response code was 200, Success!\n",
      "\n",
      "Here is the response:\n",
      "{'answers': ['the absence of fear but the ability to act in spite of it', 'bold action in the face of danger, particularly physical. it ’ s the instinctive response during emergent situations requiring immediate action. bravery is the firefighter rushing into a burning building', 'winston smith', 'winston smith', 'physical', 'physical']}\n",
      "\n",
      "---------------- Here are the queries and their answers ----------------\n",
      "\n",
      "Query: What is courage?\n",
      "Answer: the absence of fear but the ability to act in spite of it\n",
      "\n",
      "\n",
      "Query: What is bravery?\n",
      "Answer: bold action in the face of danger, particularly physical. it ’ s the instinctive response during emergent situations requiring immediate action. bravery is the firefighter rushing into a burning building\n",
      "\n",
      "\n",
      "Query: An example of a character in the literature who displays courage\n",
      "Answer: winston smith\n",
      "\n",
      "\n",
      "Query: An example of a character in the literature who exhibits bravery\n",
      "Answer: winston smith\n",
      "\n",
      "\n",
      "Query: What risks a courageous act entails?\n",
      "Answer: physical\n",
      "\n",
      "\n",
      "Query: What risks a brave act entails?\n",
      "Answer: physical\n",
      "\n",
      "\n"
     ]
    }
   ],
   "source": [
    "span_url = 'http://127.0.0.1:8000/answers_span'\n",
    "\n",
    "response_span = requests.post(span_url, json=full_essay_data)\n",
    "\n",
    "if response_span.status_code == 200:\n",
    "    print(\"The response code was 200, Success!\")\n",
    "\n",
    "if response_span.status_code == 400:\n",
    "    print(\"The response code was 400, Bad Request!\")\n",
    "\n",
    "print()\n",
    "print(\"Here is the response:\")\n",
    "print(response_span.json())\n",
    "\n",
    "print()\n",
    "print(\"---------------- Here are the queries and their answers ----------------\")\n",
    "print()\n",
    "for query, answer in zip(full_essay_queries, response_span.json()['answers']):\n",
    "    print(f\"Query: {query}\\nAnswer: {answer}\\n\\n\")\n"
   ]
  }
 ],
 "metadata": {
  "kernelspec": {
   "display_name": "essay_answers-y4c-Lji4",
   "language": "python",
   "name": "python3"
  },
  "language_info": {
   "codemirror_mode": {
    "name": "ipython",
    "version": 3
   },
   "file_extension": ".py",
   "mimetype": "text/x-python",
   "name": "python",
   "nbconvert_exporter": "python",
   "pygments_lexer": "ipython3",
   "version": "3.11.10"
  }
 },
 "nbformat": 4,
 "nbformat_minor": 2
}
